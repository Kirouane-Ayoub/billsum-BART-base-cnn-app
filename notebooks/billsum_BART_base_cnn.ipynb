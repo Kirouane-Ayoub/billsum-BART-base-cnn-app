{
  "nbformat": 4,
  "nbformat_minor": 0,
  "metadata": {
    "colab": {
      "provenance": [],
      "gpuType": "T4"
    },
    "kernelspec": {
      "name": "python3",
      "display_name": "Python 3"
    },
    "language_info": {
      "name": "python"
    },
    "accelerator": "GPU"
  },
  "cells": [
    {
      "cell_type": "code",
      "execution_count": null,
      "metadata": {
        "id": "_bib8hcmQBT-"
      },
      "outputs": [],
      "source": [
        "! pip install -q transformers gradio"
      ]
    },
    {
      "cell_type": "code",
      "source": [
        "import gradio as gr\n",
        "# Use a pipeline as a high-level helper\n",
        "from transformers import pipeline\n",
        "\n",
        "pipe = pipeline(\"summarization\", model=\"ayoubkirouane/billsum-BART-base-cnn\")\n",
        "\n",
        "# Function to perform text summarization\n",
        "def summarize_text(input_text):\n",
        "    summary = pipe(input_text, max_length=1024, min_length=50, do_sample=False)[0]['summary_text']\n",
        "    return summary\n",
        "\n",
        "# Create a Gradio interface\n",
        "iface = gr.Interface(\n",
        "    fn=summarize_text,\n",
        "    inputs=\"text\",\n",
        "    outputs=\"text\",\n",
        "    allow_flagging=False ,\n",
        "    title=\"Text Summarization App Using billsum-BART-base-cnn Model \",\n",
        "    description=\"Enter a piece of text, and this app will generate a summary using the 'billsum-BART-base-cnn' summarization model.\",\n",
        ")\n",
        "\n",
        "# Launch the app\n",
        "iface.launch(share=True , debug=True)\n"
      ],
      "metadata": {
        "id": "-B1IqyS9QWiP"
      },
      "execution_count": null,
      "outputs": []
    }
  ]
}